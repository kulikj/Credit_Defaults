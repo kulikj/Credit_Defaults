{
 "cells": [
  {
   "cell_type": "code",
   "execution_count": 392,
   "metadata": {
    "collapsed": true,
    "ExecuteTime": {
     "start_time": "2023-04-01T19:43:25.886342Z",
     "end_time": "2023-04-01T19:43:25.938333Z"
    }
   },
   "outputs": [],
   "source": [
    "import pandas as pd\n",
    "import numpy as np\n",
    "from sklearn.model_selection import train_test_split\n",
    "from tqdm import tqdm\n",
    "from sklearn.preprocessing import scale"
   ]
  },
  {
   "cell_type": "code",
   "execution_count": 393,
   "outputs": [],
   "source": [
    "df = pd.read_csv('balanced_credit.csv')\n",
    "X = scale(df.iloc[:, :-1].values)\n",
    "y = df.iloc[:, -1].values"
   ],
   "metadata": {
    "collapsed": false,
    "ExecuteTime": {
     "start_time": "2023-04-01T19:43:25.892002Z",
     "end_time": "2023-04-01T19:43:25.982480Z"
    }
   }
  },
  {
   "cell_type": "code",
   "execution_count": 394,
   "outputs": [],
   "source": [
    "X_train, X_test, y_train, y_test = train_test_split(X, y, test_size=0.2, random_state=42)"
   ],
   "metadata": {
    "collapsed": false,
    "ExecuteTime": {
     "start_time": "2023-04-01T19:43:25.940062Z",
     "end_time": "2023-04-01T19:43:25.989061Z"
    }
   }
  },
  {
   "cell_type": "code",
   "execution_count": 395,
   "outputs": [],
   "source": [
    "def sigmoid(x):\n",
    "    return 1/(1+np.exp(-x))\n",
    "\n",
    "def cross_entropy_gradient(X, y, theta):\n",
    "    \"\"\"\n",
    "    Gradient of Cross Entropy Loss\n",
    "    \"\"\"\n",
    "    z = X.dot(theta)\n",
    "    grad = (1/len(X))*np.matmul(X.T, (sigmoid(z)-y))\n",
    "    return grad\n",
    "\n",
    "def gradient_descent(X, y, theta, alpha, epochs):\n",
    "    for i in tqdm(range(epochs)):\n",
    "        theta_new = theta - alpha*cross_entropy_gradient(X,y, theta)\n",
    "        theta = theta_new\n",
    "    return theta_new\n",
    "\n",
    "def predict(X, theta):\n",
    "    z = X.dot(theta)\n",
    "    return (sigmoid(z) >=0.5).astype(int)"
   ],
   "metadata": {
    "collapsed": false,
    "ExecuteTime": {
     "start_time": "2023-04-01T19:43:25.951904Z",
     "end_time": "2023-04-01T19:43:25.989275Z"
    }
   }
  },
  {
   "cell_type": "code",
   "execution_count": 396,
   "outputs": [],
   "source": [
    "def confusion_matrix(y_true, y_pred):\n",
    "    \"\"\" Generate a confusion matrix.\n",
    "    y = actual outcomes (0, 1, 2, ...)\n",
    "    y_pred = predicted outcomes (0, 1, 2, ...)\n",
    "    return confusion matrix as a numpy array\n",
    "    \"\"\"\n",
    "\n",
    "    # Find unique identifiers\n",
    "    unique_classes = set(y_true) | set(y_pred)\n",
    "    n_classes = len(unique_classes)\n",
    "\n",
    "    # Create matrix (all zeros)\n",
    "    matrix = np.zeros(shape=(n_classes, n_classes), dtype=int)\n",
    "\n",
    "    # Pair up each actual outcome with the corresponding prediction\n",
    "    actual_prediction = list(zip(y_true, y_pred))\n",
    "\n",
    "    # For each pair, increment the correct position in the matrix\n",
    "    for i, j in actual_prediction:\n",
    "        matrix[i, j] += 1\n",
    "\n",
    "    return matrix\n",
    "\n",
    "\n",
    "def metrics(y_true, y_pred, places=4):\n",
    "    \"\"\" Generate accuracy scores for classifier.\n",
    "    Round each score to <places> decimal places \"\"\"\n",
    "    \"\"\"\n",
    "     returns the model accuracy, sensitivity, specificity, precision, and f1-score.\"\"\"\n",
    "\n",
    "    scores = {}\n",
    "    C = confusion_matrix(y_true, y_pred)\n",
    "\n",
    "    scores['accuracy'] = round(C.diagonal().sum() / C.sum(), places)\n",
    "\n",
    "    # Calculate the success measures\n",
    "    TN, FP, FN, TP = C.ravel()\n",
    "    scores['sensitivity'] = round(TP / (TP + FN), places)\n",
    "    scores['specificity'] = round(TN / (TN + FP), places)\n",
    "    scores['precision'] = round(TP / (TP + FP), places)\n",
    "    scores['f1_score'] = round(2 * (scores['precision'] * scores['sensitivity']) / \\\n",
    "                               (scores['precision'] + scores['sensitivity']), places)\n",
    "\n",
    "    return scores"
   ],
   "metadata": {
    "collapsed": false,
    "ExecuteTime": {
     "start_time": "2023-04-01T19:43:25.970709Z",
     "end_time": "2023-04-01T19:43:25.991390Z"
    }
   }
  },
  {
   "cell_type": "code",
   "execution_count": 397,
   "outputs": [],
   "source": [
    "init_theta = np.zeros((23,))"
   ],
   "metadata": {
    "collapsed": false,
    "ExecuteTime": {
     "start_time": "2023-04-01T19:43:25.972810Z",
     "end_time": "2023-04-01T19:43:25.991680Z"
    }
   }
  },
  {
   "cell_type": "code",
   "execution_count": 398,
   "outputs": [
    {
     "name": "stderr",
     "output_type": "stream",
     "text": [
      "100%|██████████| 10000/10000 [00:04<00:00, 2498.24it/s]\n"
     ]
    }
   ],
   "source": [
    "theta = gradient_descent(X_train, y_train, init_theta, .01, 10000)"
   ],
   "metadata": {
    "collapsed": false,
    "ExecuteTime": {
     "start_time": "2023-04-01T19:43:25.978639Z",
     "end_time": "2023-04-01T19:43:29.992646Z"
    }
   }
  },
  {
   "cell_type": "code",
   "execution_count": 399,
   "outputs": [],
   "source": [
    "y_pred = predict(X_test, theta)"
   ],
   "metadata": {
    "collapsed": false,
    "ExecuteTime": {
     "start_time": "2023-04-01T19:43:29.993825Z",
     "end_time": "2023-04-01T19:43:29.996758Z"
    }
   }
  },
  {
   "cell_type": "code",
   "execution_count": 400,
   "outputs": [
    {
     "data": {
      "text/plain": "{'accuracy': 0.6637,\n 'sensitivity': 0.6213,\n 'specificity': 0.7062,\n 'precision': 0.6801,\n 'f1_score': 0.6494}"
     },
     "execution_count": 400,
     "metadata": {},
     "output_type": "execute_result"
    }
   ],
   "source": [
    "metrics(y_test, y_pred)"
   ],
   "metadata": {
    "collapsed": false,
    "ExecuteTime": {
     "start_time": "2023-04-01T19:43:29.997272Z",
     "end_time": "2023-04-01T19:43:30.006935Z"
    }
   }
  },
  {
   "cell_type": "code",
   "execution_count": 401,
   "outputs": [
    {
     "data": {
      "text/plain": "array([-0.09152163, -0.04912723, -0.05870996, -0.09922221,  0.05018414,\n        0.64654538,  0.12847906,  0.10883705,  0.02578754,  0.05540393,\n       -0.04391429, -0.21568092,  0.03407758,  0.03169506,  0.03597359,\n        0.00587533, -0.00438431, -0.14955998, -0.159734  , -0.0964345 ,\n       -0.05919302, -0.02773972, -0.03291276])"
     },
     "execution_count": 401,
     "metadata": {},
     "output_type": "execute_result"
    }
   ],
   "source": [
    "theta"
   ],
   "metadata": {
    "collapsed": false,
    "ExecuteTime": {
     "start_time": "2023-04-01T19:43:30.011930Z",
     "end_time": "2023-04-01T19:43:30.044253Z"
    }
   }
  },
  {
   "cell_type": "code",
   "execution_count": 402,
   "outputs": [],
   "source": [
    "from sklearn.linear_model import LogisticRegression"
   ],
   "metadata": {
    "collapsed": false,
    "ExecuteTime": {
     "start_time": "2023-04-01T19:49:27.141166Z",
     "end_time": "2023-04-01T19:49:27.798270Z"
    }
   }
  },
  {
   "cell_type": "code",
   "execution_count": 404,
   "outputs": [
    {
     "data": {
      "text/plain": "LogisticRegression()",
      "text/html": "<style>#sk-container-id-1 {color: black;background-color: white;}#sk-container-id-1 pre{padding: 0;}#sk-container-id-1 div.sk-toggleable {background-color: white;}#sk-container-id-1 label.sk-toggleable__label {cursor: pointer;display: block;width: 100%;margin-bottom: 0;padding: 0.3em;box-sizing: border-box;text-align: center;}#sk-container-id-1 label.sk-toggleable__label-arrow:before {content: \"▸\";float: left;margin-right: 0.25em;color: #696969;}#sk-container-id-1 label.sk-toggleable__label-arrow:hover:before {color: black;}#sk-container-id-1 div.sk-estimator:hover label.sk-toggleable__label-arrow:before {color: black;}#sk-container-id-1 div.sk-toggleable__content {max-height: 0;max-width: 0;overflow: hidden;text-align: left;background-color: #f0f8ff;}#sk-container-id-1 div.sk-toggleable__content pre {margin: 0.2em;color: black;border-radius: 0.25em;background-color: #f0f8ff;}#sk-container-id-1 input.sk-toggleable__control:checked~div.sk-toggleable__content {max-height: 200px;max-width: 100%;overflow: auto;}#sk-container-id-1 input.sk-toggleable__control:checked~label.sk-toggleable__label-arrow:before {content: \"▾\";}#sk-container-id-1 div.sk-estimator input.sk-toggleable__control:checked~label.sk-toggleable__label {background-color: #d4ebff;}#sk-container-id-1 div.sk-label input.sk-toggleable__control:checked~label.sk-toggleable__label {background-color: #d4ebff;}#sk-container-id-1 input.sk-hidden--visually {border: 0;clip: rect(1px 1px 1px 1px);clip: rect(1px, 1px, 1px, 1px);height: 1px;margin: -1px;overflow: hidden;padding: 0;position: absolute;width: 1px;}#sk-container-id-1 div.sk-estimator {font-family: monospace;background-color: #f0f8ff;border: 1px dotted black;border-radius: 0.25em;box-sizing: border-box;margin-bottom: 0.5em;}#sk-container-id-1 div.sk-estimator:hover {background-color: #d4ebff;}#sk-container-id-1 div.sk-parallel-item::after {content: \"\";width: 100%;border-bottom: 1px solid gray;flex-grow: 1;}#sk-container-id-1 div.sk-label:hover label.sk-toggleable__label {background-color: #d4ebff;}#sk-container-id-1 div.sk-serial::before {content: \"\";position: absolute;border-left: 1px solid gray;box-sizing: border-box;top: 0;bottom: 0;left: 50%;z-index: 0;}#sk-container-id-1 div.sk-serial {display: flex;flex-direction: column;align-items: center;background-color: white;padding-right: 0.2em;padding-left: 0.2em;position: relative;}#sk-container-id-1 div.sk-item {position: relative;z-index: 1;}#sk-container-id-1 div.sk-parallel {display: flex;align-items: stretch;justify-content: center;background-color: white;position: relative;}#sk-container-id-1 div.sk-item::before, #sk-container-id-1 div.sk-parallel-item::before {content: \"\";position: absolute;border-left: 1px solid gray;box-sizing: border-box;top: 0;bottom: 0;left: 50%;z-index: -1;}#sk-container-id-1 div.sk-parallel-item {display: flex;flex-direction: column;z-index: 1;position: relative;background-color: white;}#sk-container-id-1 div.sk-parallel-item:first-child::after {align-self: flex-end;width: 50%;}#sk-container-id-1 div.sk-parallel-item:last-child::after {align-self: flex-start;width: 50%;}#sk-container-id-1 div.sk-parallel-item:only-child::after {width: 0;}#sk-container-id-1 div.sk-dashed-wrapped {border: 1px dashed gray;margin: 0 0.4em 0.5em 0.4em;box-sizing: border-box;padding-bottom: 0.4em;background-color: white;}#sk-container-id-1 div.sk-label label {font-family: monospace;font-weight: bold;display: inline-block;line-height: 1.2em;}#sk-container-id-1 div.sk-label-container {text-align: center;}#sk-container-id-1 div.sk-container {/* jupyter's `normalize.less` sets `[hidden] { display: none; }` but bootstrap.min.css set `[hidden] { display: none !important; }` so we also need the `!important` here to be able to override the default hidden behavior on the sphinx rendered scikit-learn.org. See: https://github.com/scikit-learn/scikit-learn/issues/21755 */display: inline-block !important;position: relative;}#sk-container-id-1 div.sk-text-repr-fallback {display: none;}</style><div id=\"sk-container-id-1\" class=\"sk-top-container\"><div class=\"sk-text-repr-fallback\"><pre>LogisticRegression()</pre><b>In a Jupyter environment, please rerun this cell to show the HTML representation or trust the notebook. <br />On GitHub, the HTML representation is unable to render, please try loading this page with nbviewer.org.</b></div><div class=\"sk-container\" hidden><div class=\"sk-item\"><div class=\"sk-estimator sk-toggleable\"><input class=\"sk-toggleable__control sk-hidden--visually\" id=\"sk-estimator-id-1\" type=\"checkbox\" checked><label for=\"sk-estimator-id-1\" class=\"sk-toggleable__label sk-toggleable__label-arrow\">LogisticRegression</label><div class=\"sk-toggleable__content\"><pre>LogisticRegression()</pre></div></div></div></div></div>"
     },
     "execution_count": 404,
     "metadata": {},
     "output_type": "execute_result"
    }
   ],
   "source": [
    "clf = LogisticRegression()\n",
    "clf.fit(X_train, y_train)"
   ],
   "metadata": {
    "collapsed": false,
    "ExecuteTime": {
     "start_time": "2023-04-01T19:49:55.898228Z",
     "end_time": "2023-04-01T19:49:55.976052Z"
    }
   }
  },
  {
   "cell_type": "code",
   "execution_count": 406,
   "outputs": [],
   "source": [
    "y_pred = clf.predict(X_test)"
   ],
   "metadata": {
    "collapsed": false,
    "ExecuteTime": {
     "start_time": "2023-04-01T19:50:13.476948Z",
     "end_time": "2023-04-01T19:50:13.486511Z"
    }
   }
  },
  {
   "cell_type": "code",
   "execution_count": 407,
   "outputs": [
    {
     "data": {
      "text/plain": "{'accuracy': 0.6603,\n 'sensitivity': 0.6206,\n 'specificity': 0.7002,\n 'precision': 0.6754,\n 'f1_score': 0.6468}"
     },
     "execution_count": 407,
     "metadata": {},
     "output_type": "execute_result"
    }
   ],
   "source": [
    "metrics(y_test, y_pred)"
   ],
   "metadata": {
    "collapsed": false,
    "ExecuteTime": {
     "start_time": "2023-04-01T19:50:23.345272Z",
     "end_time": "2023-04-01T19:50:23.487009Z"
    }
   }
  }
 ],
 "metadata": {
  "kernelspec": {
   "display_name": "Python 3",
   "language": "python",
   "name": "python3"
  },
  "language_info": {
   "codemirror_mode": {
    "name": "ipython",
    "version": 2
   },
   "file_extension": ".py",
   "mimetype": "text/x-python",
   "name": "python",
   "nbconvert_exporter": "python",
   "pygments_lexer": "ipython2",
   "version": "2.7.6"
  }
 },
 "nbformat": 4,
 "nbformat_minor": 0
}
