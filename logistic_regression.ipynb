{
 "cells": [
  {
   "cell_type": "code",
   "execution_count": 392,
   "metadata": {
    "collapsed": true,
    "ExecuteTime": {
     "start_time": "2023-04-01T19:43:25.886342Z",
     "end_time": "2023-04-01T19:43:25.938333Z"
    }
   },
   "outputs": [],
   "source": [
    "import pandas as pd\n",
    "import numpy as np\n",
    "from sklearn.model_selection import train_test_split\n",
    "from tqdm import tqdm\n",
    "from sklearn.preprocessing import scale"
   ]
  },
  {
   "cell_type": "code",
   "execution_count": 393,
   "outputs": [],
   "source": [
    "df = pd.read_csv('balanced_credit.csv')\n",
    "X = scale(df.iloc[:, :-1].values)\n",
    "y = df.iloc[:, -1].values"
   ],
   "metadata": {
    "collapsed": false,
    "ExecuteTime": {
     "start_time": "2023-04-01T19:43:25.892002Z",
     "end_time": "2023-04-01T19:43:25.982480Z"
    }
   }
  },
  {
   "cell_type": "code",
   "execution_count": 394,
   "outputs": [],
   "source": [
    "X_train, X_test, y_train, y_test = train_test_split(X, y, test_size=0.2, random_state=42)"
   ],
   "metadata": {
    "collapsed": false,
    "ExecuteTime": {
     "start_time": "2023-04-01T19:43:25.940062Z",
     "end_time": "2023-04-01T19:43:25.989061Z"
    }
   }
  },
  {
   "cell_type": "code",
   "execution_count": 395,
   "outputs": [],
   "source": [
    "def sigmoid(x):\n",
    "    return 1/(1+np.exp(-x))\n",
    "\n",
    "def cross_entropy_gradient(X, y, theta):\n",
    "    \"\"\"\n",
    "    Gradient of Cross Entropy Loss\n",
    "    \"\"\"\n",
    "    z = X.dot(theta)\n",
    "    grad = (1/len(X))*np.matmul(X.T, (sigmoid(z)-y))\n",
    "    return grad\n",
    "\n",
    "def gradient_descent(X, y, theta, alpha, epochs):\n",
    "    for i in tqdm(range(epochs)):\n",
    "        theta_new = theta - alpha*cross_entropy_gradient(X,y, theta)\n",
    "        theta = theta_new\n",
    "    return theta_new\n",
    "\n",
    "def predict(X, theta):\n",
    "    z = X.dot(theta)\n",
    "    return (sigmoid(z) >=0.5).astype(int)"
   ],
   "metadata": {
    "collapsed": false,
    "ExecuteTime": {
     "start_time": "2023-04-01T19:43:25.951904Z",
     "end_time": "2023-04-01T19:43:25.989275Z"
    }
   }
  },
  {
   "cell_type": "code",
   "execution_count": 396,
   "outputs": [],
   "source": [
    "def confusion_matrix(y_true, y_pred):\n",
    "    \"\"\" Generate a confusion matrix.\n",
    "    y = actual outcomes (0, 1, 2, ...)\n",
    "    y_pred = predicted outcomes (0, 1, 2, ...)\n",
    "    return confusion matrix as a numpy array\n",
    "    \"\"\"\n",
    "\n",
    "    # Find unique identifiers\n",
    "    unique_classes = set(y_true) | set(y_pred)\n",
    "    n_classes = len(unique_classes)\n",
    "\n",
    "    # Create matrix (all zeros)\n",
    "    matrix = np.zeros(shape=(n_classes, n_classes), dtype=int)\n",
    "\n",
    "    # Pair up each actual outcome with the corresponding prediction\n",
    "    actual_prediction = list(zip(y_true, y_pred))\n",
    "\n",
    "    # For each pair, increment the correct position in the matrix\n",
    "    for i, j in actual_prediction:\n",
    "        matrix[i, j] += 1\n",
    "\n",
    "    return matrix\n",
    "\n",
    "\n",
    "def metrics(y_true, y_pred, places=4):\n",
    "    \"\"\" Generate accuracy scores for classifier.\n",
    "    Round each score to <places> decimal places \"\"\"\n",
    "    \"\"\"\n",
    "     returns the model accuracy, sensitivity, specificity, precision, and f1-score.\"\"\"\n",
    "\n",
    "    scores = {}\n",
    "    C = confusion_matrix(y_true, y_pred)\n",
    "\n",
    "    scores['accuracy'] = round(C.diagonal().sum() / C.sum(), places)\n",
    "\n",
    "    # Calculate the success measures\n",
    "    TN, FP, FN, TP = C.ravel()\n",
    "    scores['sensitivity'] = round(TP / (TP + FN), places)\n",
    "    scores['specificity'] = round(TN / (TN + FP), places)\n",
    "    scores['precision'] = round(TP / (TP + FP), places)\n",
    "    scores['f1_score'] = round(2 * (scores['precision'] * scores['sensitivity']) / \\\n",
    "                               (scores['precision'] + scores['sensitivity']), places)\n",
    "\n",
    "    return scores"
   ],
   "metadata": {
    "collapsed": false,
    "ExecuteTime": {
     "start_time": "2023-04-01T19:43:25.970709Z",
     "end_time": "2023-04-01T19:43:25.991390Z"
    }
   }
  },
  {
   "cell_type": "code",
   "execution_count": 397,
   "outputs": [],
   "source": [
    "init_theta = np.zeros((23,))"
   ],
   "metadata": {
    "collapsed": false,
    "ExecuteTime": {
     "start_time": "2023-04-01T19:43:25.972810Z",
     "end_time": "2023-04-01T19:43:25.991680Z"
    }
   }
  },
  {
   "cell_type": "code",
   "execution_count": 398,
   "outputs": [
    {
     "name": "stderr",
     "output_type": "stream",
     "text": [
      "100%|██████████| 10000/10000 [00:04<00:00, 2498.24it/s]\n"
     ]
    }
   ],
   "source": [
    "theta = gradient_descent(X_train, y_train, init_theta, .01, 10000)"
   ],
   "metadata": {
    "collapsed": false,
    "ExecuteTime": {
     "start_time": "2023-04-01T19:43:25.978639Z",
     "end_time": "2023-04-01T19:43:29.992646Z"
    }
   }
  },
  {
   "cell_type": "code",
   "execution_count": 399,
   "outputs": [],
   "source": [
    "y_pred = predict(X_test, theta)"
   ],
   "metadata": {
    "collapsed": false,
    "ExecuteTime": {
     "start_time": "2023-04-01T19:43:29.993825Z",
     "end_time": "2023-04-01T19:43:29.996758Z"
    }
   }
  },
  {
   "cell_type": "code",
   "execution_count": 400,
   "outputs": [
    {
     "data": {
      "text/plain": "{'accuracy': 0.6637,\n 'sensitivity': 0.6213,\n 'specificity': 0.7062,\n 'precision': 0.6801,\n 'f1_score': 0.6494}"
     },
     "execution_count": 400,
     "metadata": {},
     "output_type": "execute_result"
    }
   ],
   "source": [
    "metrics(y_test, y_pred)"
   ],
   "metadata": {
    "collapsed": false,
    "ExecuteTime": {
     "start_time": "2023-04-01T19:43:29.997272Z",
     "end_time": "2023-04-01T19:43:30.006935Z"
    }
   }
  },
  {
   "cell_type": "code",
   "execution_count": 401,
   "outputs": [
    {
     "data": {
      "text/plain": "array([-0.09152163, -0.04912723, -0.05870996, -0.09922221,  0.05018414,\n        0.64654538,  0.12847906,  0.10883705,  0.02578754,  0.05540393,\n       -0.04391429, -0.21568092,  0.03407758,  0.03169506,  0.03597359,\n        0.00587533, -0.00438431, -0.14955998, -0.159734  , -0.0964345 ,\n       -0.05919302, -0.02773972, -0.03291276])"
     },
     "execution_count": 401,
     "metadata": {},
     "output_type": "execute_result"
    }
   ],
   "source": [
    "theta"
   ],
   "metadata": {
    "collapsed": false,
    "ExecuteTime": {
     "start_time": "2023-04-01T19:43:30.011930Z",
     "end_time": "2023-04-01T19:43:30.044253Z"
    }
   }
  }
 ],
 "metadata": {
  "kernelspec": {
   "display_name": "Python 3",
   "language": "python",
   "name": "python3"
  },
  "language_info": {
   "codemirror_mode": {
    "name": "ipython",
    "version": 2
   },
   "file_extension": ".py",
   "mimetype": "text/x-python",
   "name": "python",
   "nbconvert_exporter": "python",
   "pygments_lexer": "ipython2",
   "version": "2.7.6"
  }
 },
 "nbformat": 4,
 "nbformat_minor": 0
}
