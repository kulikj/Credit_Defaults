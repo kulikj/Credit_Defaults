{
 "cells": [
  {
   "cell_type": "code",
   "execution_count": 76,
   "metadata": {
    "collapsed": true
   },
   "outputs": [],
   "source": [
    "from decision_tree import dtree\n",
    "import pandas as pd\n",
    "from decision_tree import gini\n",
    "import math\n",
    "from pprint import pprint"
   ]
  },
  {
   "cell_type": "code",
   "execution_count": 77,
   "outputs": [],
   "source": [
    "df = pd.read_csv('balanced_credit.csv')"
   ],
   "metadata": {
    "collapsed": false
   }
  },
  {
   "cell_type": "code",
   "execution_count": 78,
   "outputs": [],
   "source": [
    "def round_sigfigs(num, sig_figs):\n",
    "    if num == 0:\n",
    "        return 0\n",
    "    else:\n",
    "        return round(num, sig_figs - int(math.floor(math.log10(abs(num)))) - 1)"
   ],
   "metadata": {
    "collapsed": false
   }
  },
  {
   "cell_type": "code",
   "execution_count": 79,
   "outputs": [
    {
     "data": {
      "text/plain": "       LIMIT_BAL  SEX  EDUCATION  MARRIAGE  AGE  PAY_0  PAY_2  PAY_3  PAY_4  \\\n0         380000    2          3         2   31     -1     -1     -1     -1   \n1         240000    2          2         1   35     -2     -2     -2     -2   \n2          50000    2          1         2   23     -1     -1     -2     -2   \n3         330000    1          1         2   32      0      0      0      0   \n4          80000    2          2         1   35     -1     -1     -1     -1   \n...          ...  ...        ...       ...  ...    ...    ...    ...    ...   \n13267     210000    1          2         1   34      3      2      2      2   \n13268      80000    1          2         2   34      2      2      2      2   \n13269      30000    1          2         2   37      4      3      2     -1   \n13270      80000    1          3         1   41      1     -1      0      0   \n13271      50000    1          2         1   46      0      0      0      0   \n\n       PAY_5  ...  BILL_AMT4  BILL_AMT5  BILL_AMT6  PAY_AMT1  PAY_AMT2  \\\n0         -1  ...      11147      12483      13680      9240     15233   \n1         -2  ...       5638       2582       4127      7375      4908   \n2         -2  ...          0          0          0         0         0   \n3          0  ...     141453     112633     121242      5500      4723   \n4         -1  ...        396        396        396      9796     13443   \n...      ...  ...        ...        ...        ...       ...       ...   \n13267      2  ...       2500       2500       2500         0         0   \n13268      2  ...      77519      82607      81158      7000      3500   \n13269      0  ...      20878      20582      19357         0         0   \n13270      0  ...      52774      11855      48944     85900      3409   \n13271      0  ...      36535      32428      15313      2078      1800   \n\n       PAY_AMT3  PAY_AMT4  PAY_AMT5  PAY_AMT6  default  \n0         11202     12493     13748     18061        0  \n1          5638      2587      4127      4942        0  \n2             0         0         0         0        0  \n3          5500      4000     10700      4500        0  \n4           396       396         0       396        0  \n...         ...       ...       ...       ...      ...  \n13267         0         0         0         0        1  \n13268         0      7000         0      4000        1  \n13269     22000      4200      2000      3100        1  \n13270      1178      1926     52964      1804        1  \n13271      1430      1000      1000      1000        1  \n\n[13272 rows x 24 columns]",
      "text/html": "<div>\n<style scoped>\n    .dataframe tbody tr th:only-of-type {\n        vertical-align: middle;\n    }\n\n    .dataframe tbody tr th {\n        vertical-align: top;\n    }\n\n    .dataframe thead th {\n        text-align: right;\n    }\n</style>\n<table border=\"1\" class=\"dataframe\">\n  <thead>\n    <tr style=\"text-align: right;\">\n      <th></th>\n      <th>LIMIT_BAL</th>\n      <th>SEX</th>\n      <th>EDUCATION</th>\n      <th>MARRIAGE</th>\n      <th>AGE</th>\n      <th>PAY_0</th>\n      <th>PAY_2</th>\n      <th>PAY_3</th>\n      <th>PAY_4</th>\n      <th>PAY_5</th>\n      <th>...</th>\n      <th>BILL_AMT4</th>\n      <th>BILL_AMT5</th>\n      <th>BILL_AMT6</th>\n      <th>PAY_AMT1</th>\n      <th>PAY_AMT2</th>\n      <th>PAY_AMT3</th>\n      <th>PAY_AMT4</th>\n      <th>PAY_AMT5</th>\n      <th>PAY_AMT6</th>\n      <th>default</th>\n    </tr>\n  </thead>\n  <tbody>\n    <tr>\n      <th>0</th>\n      <td>380000</td>\n      <td>2</td>\n      <td>3</td>\n      <td>2</td>\n      <td>31</td>\n      <td>-1</td>\n      <td>-1</td>\n      <td>-1</td>\n      <td>-1</td>\n      <td>-1</td>\n      <td>...</td>\n      <td>11147</td>\n      <td>12483</td>\n      <td>13680</td>\n      <td>9240</td>\n      <td>15233</td>\n      <td>11202</td>\n      <td>12493</td>\n      <td>13748</td>\n      <td>18061</td>\n      <td>0</td>\n    </tr>\n    <tr>\n      <th>1</th>\n      <td>240000</td>\n      <td>2</td>\n      <td>2</td>\n      <td>1</td>\n      <td>35</td>\n      <td>-2</td>\n      <td>-2</td>\n      <td>-2</td>\n      <td>-2</td>\n      <td>-2</td>\n      <td>...</td>\n      <td>5638</td>\n      <td>2582</td>\n      <td>4127</td>\n      <td>7375</td>\n      <td>4908</td>\n      <td>5638</td>\n      <td>2587</td>\n      <td>4127</td>\n      <td>4942</td>\n      <td>0</td>\n    </tr>\n    <tr>\n      <th>2</th>\n      <td>50000</td>\n      <td>2</td>\n      <td>1</td>\n      <td>2</td>\n      <td>23</td>\n      <td>-1</td>\n      <td>-1</td>\n      <td>-2</td>\n      <td>-2</td>\n      <td>-2</td>\n      <td>...</td>\n      <td>0</td>\n      <td>0</td>\n      <td>0</td>\n      <td>0</td>\n      <td>0</td>\n      <td>0</td>\n      <td>0</td>\n      <td>0</td>\n      <td>0</td>\n      <td>0</td>\n    </tr>\n    <tr>\n      <th>3</th>\n      <td>330000</td>\n      <td>1</td>\n      <td>1</td>\n      <td>2</td>\n      <td>32</td>\n      <td>0</td>\n      <td>0</td>\n      <td>0</td>\n      <td>0</td>\n      <td>0</td>\n      <td>...</td>\n      <td>141453</td>\n      <td>112633</td>\n      <td>121242</td>\n      <td>5500</td>\n      <td>4723</td>\n      <td>5500</td>\n      <td>4000</td>\n      <td>10700</td>\n      <td>4500</td>\n      <td>0</td>\n    </tr>\n    <tr>\n      <th>4</th>\n      <td>80000</td>\n      <td>2</td>\n      <td>2</td>\n      <td>1</td>\n      <td>35</td>\n      <td>-1</td>\n      <td>-1</td>\n      <td>-1</td>\n      <td>-1</td>\n      <td>-1</td>\n      <td>...</td>\n      <td>396</td>\n      <td>396</td>\n      <td>396</td>\n      <td>9796</td>\n      <td>13443</td>\n      <td>396</td>\n      <td>396</td>\n      <td>0</td>\n      <td>396</td>\n      <td>0</td>\n    </tr>\n    <tr>\n      <th>...</th>\n      <td>...</td>\n      <td>...</td>\n      <td>...</td>\n      <td>...</td>\n      <td>...</td>\n      <td>...</td>\n      <td>...</td>\n      <td>...</td>\n      <td>...</td>\n      <td>...</td>\n      <td>...</td>\n      <td>...</td>\n      <td>...</td>\n      <td>...</td>\n      <td>...</td>\n      <td>...</td>\n      <td>...</td>\n      <td>...</td>\n      <td>...</td>\n      <td>...</td>\n      <td>...</td>\n    </tr>\n    <tr>\n      <th>13267</th>\n      <td>210000</td>\n      <td>1</td>\n      <td>2</td>\n      <td>1</td>\n      <td>34</td>\n      <td>3</td>\n      <td>2</td>\n      <td>2</td>\n      <td>2</td>\n      <td>2</td>\n      <td>...</td>\n      <td>2500</td>\n      <td>2500</td>\n      <td>2500</td>\n      <td>0</td>\n      <td>0</td>\n      <td>0</td>\n      <td>0</td>\n      <td>0</td>\n      <td>0</td>\n      <td>1</td>\n    </tr>\n    <tr>\n      <th>13268</th>\n      <td>80000</td>\n      <td>1</td>\n      <td>2</td>\n      <td>2</td>\n      <td>34</td>\n      <td>2</td>\n      <td>2</td>\n      <td>2</td>\n      <td>2</td>\n      <td>2</td>\n      <td>...</td>\n      <td>77519</td>\n      <td>82607</td>\n      <td>81158</td>\n      <td>7000</td>\n      <td>3500</td>\n      <td>0</td>\n      <td>7000</td>\n      <td>0</td>\n      <td>4000</td>\n      <td>1</td>\n    </tr>\n    <tr>\n      <th>13269</th>\n      <td>30000</td>\n      <td>1</td>\n      <td>2</td>\n      <td>2</td>\n      <td>37</td>\n      <td>4</td>\n      <td>3</td>\n      <td>2</td>\n      <td>-1</td>\n      <td>0</td>\n      <td>...</td>\n      <td>20878</td>\n      <td>20582</td>\n      <td>19357</td>\n      <td>0</td>\n      <td>0</td>\n      <td>22000</td>\n      <td>4200</td>\n      <td>2000</td>\n      <td>3100</td>\n      <td>1</td>\n    </tr>\n    <tr>\n      <th>13270</th>\n      <td>80000</td>\n      <td>1</td>\n      <td>3</td>\n      <td>1</td>\n      <td>41</td>\n      <td>1</td>\n      <td>-1</td>\n      <td>0</td>\n      <td>0</td>\n      <td>0</td>\n      <td>...</td>\n      <td>52774</td>\n      <td>11855</td>\n      <td>48944</td>\n      <td>85900</td>\n      <td>3409</td>\n      <td>1178</td>\n      <td>1926</td>\n      <td>52964</td>\n      <td>1804</td>\n      <td>1</td>\n    </tr>\n    <tr>\n      <th>13271</th>\n      <td>50000</td>\n      <td>1</td>\n      <td>2</td>\n      <td>1</td>\n      <td>46</td>\n      <td>0</td>\n      <td>0</td>\n      <td>0</td>\n      <td>0</td>\n      <td>0</td>\n      <td>...</td>\n      <td>36535</td>\n      <td>32428</td>\n      <td>15313</td>\n      <td>2078</td>\n      <td>1800</td>\n      <td>1430</td>\n      <td>1000</td>\n      <td>1000</td>\n      <td>1000</td>\n      <td>1</td>\n    </tr>\n  </tbody>\n</table>\n<p>13272 rows × 24 columns</p>\n</div>"
     },
     "execution_count": 79,
     "metadata": {},
     "output_type": "execute_result"
    }
   ],
   "source": [
    "df"
   ],
   "metadata": {
    "collapsed": false
   }
  },
  {
   "cell_type": "code",
   "execution_count": 80,
   "outputs": [],
   "source": [
    "df.loc[:, 'BILL_AMT1': 'PAY_AMT6'] = df.loc[:, 'BILL_AMT1':'PAY_AMT6'].applymap(lambda x: round_sigfigs(x, 2))"
   ],
   "metadata": {
    "collapsed": false
   }
  },
  {
   "cell_type": "code",
   "execution_count": 81,
   "outputs": [
    {
     "data": {
      "text/plain": "LIMIT_BAL     75\nSEX            2\nEDUCATION      7\nMARRIAGE       4\nAGE           55\nPAY_0         11\nPAY_2         10\nPAY_3         11\nPAY_4         11\nPAY_5         10\nPAY_6         10\nBILL_AMT1    471\nBILL_AMT2    483\nBILL_AMT3    477\nBILL_AMT4    484\nBILL_AMT5    487\nBILL_AMT6    477\nPAY_AMT1     329\nPAY_AMT2     338\nPAY_AMT3     341\nPAY_AMT4     347\nPAY_AMT5     338\nPAY_AMT6     345\ndefault        2\ndtype: int64"
     },
     "execution_count": 81,
     "metadata": {},
     "output_type": "execute_result"
    }
   ],
   "source": [
    "df.nunique()"
   ],
   "metadata": {
    "collapsed": false
   }
  },
  {
   "cell_type": "code",
   "execution_count": 82,
   "outputs": [
    {
     "name": "stderr",
     "output_type": "stream",
     "text": [
      "100%|██████████| 24/24 [00:17<00:00,  1.36it/s]\n",
      "100%|██████████| 24/24 [00:11<00:00,  2.04it/s]\n",
      "100%|██████████| 24/24 [00:06<00:00,  3.71it/s]\n"
     ]
    }
   ],
   "source": [
    "tree = dtree(df, gini, max_depth=2)"
   ],
   "metadata": {
    "collapsed": false
   }
  },
  {
   "cell_type": "code",
   "execution_count": 83,
   "outputs": [
    {
     "name": "stdout",
     "output_type": "stream",
     "text": [
      "( 'PAY_0',\n",
      "  1,\n",
      "  13272,\n",
      "  0,\n",
      "  0.5,\n",
      "  0,\n",
      "  ( 'PAY_AMT2',\n",
      "    1700,\n",
      "    8848,\n",
      "    0,\n",
      "    0.46216263153635107,\n",
      "    1,\n",
      "    (None, None, 3533, 0, 0.4966078995270744, 2, None, None),\n",
      "    (None, None, 5315, 0, 0.41871548688503846, 2, None, None)),\n",
      "  ( 'PAY_0',\n",
      "    2,\n",
      "    4424,\n",
      "    1,\n",
      "    0.3486505261454045,\n",
      "    1,\n",
      "    (None, None, 1985, 1, 0.46581908393556204, 2, None, None),\n",
      "    (None, None, 2439, 1, 0.1917635740523047, 2, None, None)))\n"
     ]
    }
   ],
   "source": [
    "pprint(tree, indent=2)"
   ],
   "metadata": {
    "collapsed": false
   }
  }
 ],
 "metadata": {
  "kernelspec": {
   "display_name": "Python 3",
   "language": "python",
   "name": "python3"
  },
  "language_info": {
   "codemirror_mode": {
    "name": "ipython",
    "version": 2
   },
   "file_extension": ".py",
   "mimetype": "text/x-python",
   "name": "python",
   "nbconvert_exporter": "python",
   "pygments_lexer": "ipython2",
   "version": "2.7.6"
  }
 },
 "nbformat": 4,
 "nbformat_minor": 0
}
