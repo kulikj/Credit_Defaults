{
 "cells": [
  {
   "cell_type": "code",
   "execution_count": 1,
   "outputs": [
    {
     "name": "stderr",
     "output_type": "stream",
     "text": [
      "2023-04-06 20:21:09.333970: I tensorflow/core/platform/cpu_feature_guard.cc:182] This TensorFlow binary is optimized to use available CPU instructions in performance-critical operations.\n",
      "To enable the following instructions: SSE4.1 SSE4.2, in other operations, rebuild TensorFlow with the appropriate compiler flags.\n"
     ]
    }
   ],
   "source": [
    "import numpy as np\n",
    "import pandas as pd\n",
    "from sklearn.model_selection import train_test_split\n",
    "from sklearn.preprocessing import StandardScaler\n",
    "from sklearn.metrics import accuracy_score\n",
    "from tensorflow.keras.models import Sequential\n",
    "from tensorflow.keras.layers import Dense, Dropout\n",
    "from tensorflow.keras.optimizers import Adam"
   ],
   "metadata": {
    "collapsed": false,
    "ExecuteTime": {
     "start_time": "2023-04-07T18:49:20.490091Z",
     "end_time": "2023-04-07T18:49:27.618451Z"
    }
   }
  },
  {
   "cell_type": "code",
   "execution_count": 3,
   "outputs": [
    {
     "name": "stdout",
     "output_type": "stream",
     "text": [
      "Epoch 1/50\n"
     ]
    },
    {
     "name": "stderr",
     "output_type": "stream",
     "text": [
      "2023-04-06 20:22:40.339984: I tensorflow/core/grappler/optimizers/custom_graph_optimizer_registry.cc:114] Plugin optimizer for device_type GPU is enabled.\n"
     ]
    },
    {
     "name": "stdout",
     "output_type": "stream",
     "text": [
      "266/266 [==============================] - 1s 2ms/step - loss: 0.6751 - accuracy: 0.5589 - val_loss: 0.6261 - val_accuracy: 0.6478\n",
      "Epoch 2/25\n",
      "266/266 [==============================] - 0s 2ms/step - loss: 0.6395 - accuracy: 0.6156 - val_loss: 0.6111 - val_accuracy: 0.6704\n",
      "Epoch 3/25\n",
      "266/266 [==============================] - 1s 2ms/step - loss: 0.6286 - accuracy: 0.6423 - val_loss: 0.6019 - val_accuracy: 0.6911\n",
      "Epoch 4/25\n",
      "266/266 [==============================] - 1s 2ms/step - loss: 0.6179 - accuracy: 0.6502 - val_loss: 0.5962 - val_accuracy: 0.6977\n",
      "Epoch 5/25\n",
      "266/266 [==============================] - 1s 2ms/step - loss: 0.6175 - accuracy: 0.6647 - val_loss: 0.5946 - val_accuracy: 0.7001\n",
      "Epoch 6/25\n",
      "266/266 [==============================] - 1s 2ms/step - loss: 0.6122 - accuracy: 0.6786 - val_loss: 0.5891 - val_accuracy: 0.6996\n",
      "Epoch 7/25\n",
      "266/266 [==============================] - 0s 2ms/step - loss: 0.6065 - accuracy: 0.6824 - val_loss: 0.5849 - val_accuracy: 0.7029\n",
      "Epoch 8/25\n",
      "266/266 [==============================] - 0s 2ms/step - loss: 0.5992 - accuracy: 0.6859 - val_loss: 0.5846 - val_accuracy: 0.7024\n",
      "Epoch 9/25\n",
      "266/266 [==============================] - 0s 2ms/step - loss: 0.5950 - accuracy: 0.6854 - val_loss: 0.5852 - val_accuracy: 0.7034\n",
      "Epoch 10/25\n",
      "266/266 [==============================] - 0s 2ms/step - loss: 0.5953 - accuracy: 0.6896 - val_loss: 0.5815 - val_accuracy: 0.7062\n",
      "Epoch 11/25\n",
      "266/266 [==============================] - 0s 2ms/step - loss: 0.5895 - accuracy: 0.6927 - val_loss: 0.5801 - val_accuracy: 0.7062\n",
      "Epoch 12/25\n",
      "266/266 [==============================] - 0s 2ms/step - loss: 0.5918 - accuracy: 0.6930 - val_loss: 0.5789 - val_accuracy: 0.7053\n",
      "Epoch 13/25\n",
      "266/266 [==============================] - 0s 2ms/step - loss: 0.5892 - accuracy: 0.6895 - val_loss: 0.5778 - val_accuracy: 0.7076\n",
      "Epoch 14/25\n",
      "266/266 [==============================] - 0s 2ms/step - loss: 0.5877 - accuracy: 0.6945 - val_loss: 0.5779 - val_accuracy: 0.7057\n",
      "Epoch 15/25\n",
      "266/266 [==============================] - 0s 2ms/step - loss: 0.5900 - accuracy: 0.6889 - val_loss: 0.5776 - val_accuracy: 0.7020\n",
      "Epoch 16/25\n",
      "266/266 [==============================] - 0s 2ms/step - loss: 0.5894 - accuracy: 0.6905 - val_loss: 0.5780 - val_accuracy: 0.7048\n",
      "Epoch 17/25\n",
      "266/266 [==============================] - 0s 2ms/step - loss: 0.5829 - accuracy: 0.6989 - val_loss: 0.5768 - val_accuracy: 0.7095\n",
      "Epoch 18/25\n",
      "266/266 [==============================] - 0s 2ms/step - loss: 0.5832 - accuracy: 0.6972 - val_loss: 0.5777 - val_accuracy: 0.7072\n",
      "Epoch 19/25\n",
      "266/266 [==============================] - 0s 2ms/step - loss: 0.5810 - accuracy: 0.6965 - val_loss: 0.5751 - val_accuracy: 0.7086\n",
      "Epoch 20/25\n",
      "266/266 [==============================] - 1s 2ms/step - loss: 0.5868 - accuracy: 0.6941 - val_loss: 0.5750 - val_accuracy: 0.7057\n",
      "Epoch 21/25\n",
      "266/266 [==============================] - 0s 2ms/step - loss: 0.5828 - accuracy: 0.6959 - val_loss: 0.5747 - val_accuracy: 0.7081\n",
      "Epoch 22/25\n",
      "266/266 [==============================] - 0s 2ms/step - loss: 0.5826 - accuracy: 0.6927 - val_loss: 0.5743 - val_accuracy: 0.7048\n",
      "Epoch 23/25\n",
      "266/266 [==============================] - 0s 2ms/step - loss: 0.5790 - accuracy: 0.7000 - val_loss: 0.5774 - val_accuracy: 0.7081\n",
      "Epoch 24/25\n",
      "266/266 [==============================] - 0s 2ms/step - loss: 0.5796 - accuracy: 0.6995 - val_loss: 0.5734 - val_accuracy: 0.7081\n",
      "Epoch 25/25\n",
      "266/266 [==============================] - 1s 2ms/step - loss: 0.5804 - accuracy: 0.6943 - val_loss: 0.5753 - val_accuracy: 0.7081\n",
      "83/83 [==============================] - 0s 1ms/step\n",
      "Accuracy: 69.30%\n"
     ]
    }
   ],
   "source": [
    "data = pd.read_csv('balanced_credit.csv')\n",
    "\n",
    "X = data.drop('default', axis=1).values\n",
    "y = data['default'].values\n",
    "\n",
    "# SPlit data\n",
    "X_train, X_test, y_train, y_test = train_test_split(X, y, test_size=0.2, random_state=42, stratify=y)\n",
    "\n",
    "# Scale features\n",
    "scaler = StandardScaler()\n",
    "X_train = scaler.fit_transform(X_train)\n",
    "X_test = scaler.transform(X_test)\n",
    "\n",
    "# Build model structure\n",
    "model = Sequential([\n",
    "    Dense(16, activation='relu'),\n",
    "    Dropout(0.2),\n",
    "    Dense(8, activation='relu'),\n",
    "    Dropout(0.2),\n",
    "    Dense(1, activation='sigmoid')\n",
    "])\n",
    "\n",
    "# Compile and fit model\n",
    "model.compile(optimizer=Adam(learning_rate=0.001), loss='binary_crossentropy', metrics=['accuracy'])\n",
    "model.fit(X_train, y_train, validation_split=0.2, epochs=25, batch_size=32, verbose=1)\n",
    "\n",
    "# make predictions and output metrics\n",
    "y_pred = (model.predict(X_test) > 0.5).astype(\"int32\")\n",
    "accuracy = accuracy_score(y_test, y_pred)\n",
    "print(\"Accuracy: {:.2f}%\".format(accuracy * 100))"
   ],
   "metadata": {
    "collapsed": false,
    "ExecuteTime": {
     "start_time": "2023-04-07T18:49:27.619279Z",
     "end_time": "2023-04-07T18:49:41.168746Z"
    }
   }
  },
  {
   "cell_type": "code",
   "execution_count": 3,
   "outputs": [
    {
     "name": "stdout",
     "output_type": "stream",
     "text": [
      "266/266 [==============================] - 8s 26ms/step - loss: 0.6362 - accuracy: 0.6357 - val_loss: 0.6055 - val_accuracy: 0.6780\n",
      "Epoch 2/50\n",
      "266/266 [==============================] - 6s 24ms/step - loss: 0.6025 - accuracy: 0.6822 - val_loss: 0.5931 - val_accuracy: 0.6907\n",
      "Epoch 3/50\n",
      "266/266 [==============================] - 7s 25ms/step - loss: 0.5919 - accuracy: 0.6919 - val_loss: 0.5849 - val_accuracy: 0.6982\n",
      "Epoch 4/50\n",
      "266/266 [==============================] - 7s 26ms/step - loss: 0.5848 - accuracy: 0.6974 - val_loss: 0.5829 - val_accuracy: 0.6944\n",
      "Epoch 5/50\n",
      "266/266 [==============================] - 6s 24ms/step - loss: 0.5803 - accuracy: 0.6963 - val_loss: 0.5797 - val_accuracy: 0.6977\n",
      "Epoch 6/50\n",
      "266/266 [==============================] - 6s 24ms/step - loss: 0.5763 - accuracy: 0.7013 - val_loss: 0.5812 - val_accuracy: 0.6911\n",
      "Epoch 7/50\n",
      "266/266 [==============================] - 6s 24ms/step - loss: 0.5735 - accuracy: 0.7005 - val_loss: 0.5779 - val_accuracy: 0.7006\n",
      "Epoch 8/50\n",
      "266/266 [==============================] - 6s 24ms/step - loss: 0.5704 - accuracy: 0.7027 - val_loss: 0.5789 - val_accuracy: 0.6982\n",
      "Epoch 9/50\n",
      "266/266 [==============================] - 6s 23ms/step - loss: 0.5689 - accuracy: 0.7025 - val_loss: 0.5778 - val_accuracy: 0.7001\n",
      "Epoch 10/50\n",
      "266/266 [==============================] - 6s 23ms/step - loss: 0.5666 - accuracy: 0.7042 - val_loss: 0.5767 - val_accuracy: 0.6977\n",
      "Epoch 11/50\n",
      "266/266 [==============================] - 6s 23ms/step - loss: 0.5646 - accuracy: 0.7060 - val_loss: 0.5781 - val_accuracy: 0.7034\n",
      "Epoch 12/50\n",
      "266/266 [==============================] - 6s 24ms/step - loss: 0.5635 - accuracy: 0.7086 - val_loss: 0.5791 - val_accuracy: 0.6911\n",
      "Epoch 13/50\n",
      "266/266 [==============================] - 7s 25ms/step - loss: 0.5621 - accuracy: 0.7089 - val_loss: 0.5776 - val_accuracy: 0.6992\n",
      "Epoch 14/50\n",
      "266/266 [==============================] - 7s 25ms/step - loss: 0.5613 - accuracy: 0.7088 - val_loss: 0.5759 - val_accuracy: 0.6949\n",
      "Epoch 15/50\n",
      "266/266 [==============================] - 7s 25ms/step - loss: 0.5595 - accuracy: 0.7131 - val_loss: 0.5777 - val_accuracy: 0.6940\n",
      "Epoch 16/50\n",
      "266/266 [==============================] - 7s 25ms/step - loss: 0.5585 - accuracy: 0.7113 - val_loss: 0.5751 - val_accuracy: 0.6968\n",
      "Epoch 17/50\n",
      "266/266 [==============================] - 7s 25ms/step - loss: 0.5574 - accuracy: 0.7121 - val_loss: 0.5765 - val_accuracy: 0.6963\n",
      "Epoch 18/50\n",
      "266/266 [==============================] - 7s 25ms/step - loss: 0.5562 - accuracy: 0.7134 - val_loss: 0.5743 - val_accuracy: 0.6977\n",
      "Epoch 19/50\n",
      "266/266 [==============================] - 7s 25ms/step - loss: 0.5547 - accuracy: 0.7142 - val_loss: 0.5765 - val_accuracy: 0.6897\n",
      "Epoch 20/50\n",
      "266/266 [==============================] - 6s 24ms/step - loss: 0.5542 - accuracy: 0.7141 - val_loss: 0.5835 - val_accuracy: 0.6798\n",
      "Epoch 21/50\n",
      "266/266 [==============================] - 6s 24ms/step - loss: 0.5543 - accuracy: 0.7158 - val_loss: 0.5777 - val_accuracy: 0.6916\n",
      "Epoch 22/50\n",
      "266/266 [==============================] - 7s 27ms/step - loss: 0.5529 - accuracy: 0.7152 - val_loss: 0.5763 - val_accuracy: 0.6935\n",
      "Epoch 23/50\n",
      "266/266 [==============================] - 8s 29ms/step - loss: 0.5519 - accuracy: 0.7138 - val_loss: 0.5765 - val_accuracy: 0.6926\n",
      "Epoch 24/50\n",
      "266/266 [==============================] - 8s 29ms/step - loss: 0.5509 - accuracy: 0.7155 - val_loss: 0.5774 - val_accuracy: 0.6987\n",
      "Epoch 25/50\n",
      "266/266 [==============================] - 7s 26ms/step - loss: 0.5499 - accuracy: 0.7182 - val_loss: 0.5777 - val_accuracy: 0.6935\n",
      "Epoch 26/50\n",
      "266/266 [==============================] - 7s 25ms/step - loss: 0.5494 - accuracy: 0.7162 - val_loss: 0.5762 - val_accuracy: 0.6935\n",
      "Epoch 27/50\n",
      "266/266 [==============================] - 7s 25ms/step - loss: 0.5486 - accuracy: 0.7192 - val_loss: 0.5757 - val_accuracy: 0.6959\n",
      "Epoch 28/50\n",
      "266/266 [==============================] - 7s 25ms/step - loss: 0.5473 - accuracy: 0.7197 - val_loss: 0.5761 - val_accuracy: 0.6954\n",
      "Epoch 29/50\n",
      "266/266 [==============================] - 7s 25ms/step - loss: 0.5468 - accuracy: 0.7195 - val_loss: 0.5747 - val_accuracy: 0.6949\n",
      "Epoch 30/50\n",
      "266/266 [==============================] - 7s 25ms/step - loss: 0.5466 - accuracy: 0.7227 - val_loss: 0.5784 - val_accuracy: 0.7006\n",
      "Epoch 31/50\n",
      "266/266 [==============================] - 7s 25ms/step - loss: 0.5455 - accuracy: 0.7200 - val_loss: 0.5769 - val_accuracy: 0.6982\n",
      "Epoch 32/50\n",
      "266/266 [==============================] - 7s 25ms/step - loss: 0.5442 - accuracy: 0.7212 - val_loss: 0.5850 - val_accuracy: 0.6916\n",
      "Epoch 33/50\n",
      "266/266 [==============================] - 7s 25ms/step - loss: 0.5440 - accuracy: 0.7195 - val_loss: 0.5759 - val_accuracy: 0.6987\n",
      "Epoch 34/50\n",
      "266/266 [==============================] - 7s 25ms/step - loss: 0.5433 - accuracy: 0.7231 - val_loss: 0.5782 - val_accuracy: 0.6944\n",
      "Epoch 35/50\n",
      "266/266 [==============================] - 7s 25ms/step - loss: 0.5432 - accuracy: 0.7238 - val_loss: 0.5792 - val_accuracy: 0.6954\n",
      "Epoch 36/50\n",
      "266/266 [==============================] - 7s 25ms/step - loss: 0.5424 - accuracy: 0.7207 - val_loss: 0.5780 - val_accuracy: 0.6973\n",
      "Epoch 37/50\n",
      "266/266 [==============================] - 8s 28ms/step - loss: 0.5415 - accuracy: 0.7240 - val_loss: 0.5794 - val_accuracy: 0.6968\n",
      "Epoch 38/50\n",
      "266/266 [==============================] - 7s 27ms/step - loss: 0.5403 - accuracy: 0.7234 - val_loss: 0.5799 - val_accuracy: 0.6926\n",
      "Epoch 39/50\n",
      "266/266 [==============================] - 7s 26ms/step - loss: 0.5401 - accuracy: 0.7232 - val_loss: 0.5793 - val_accuracy: 0.6916\n",
      "Epoch 40/50\n",
      "266/266 [==============================] - 7s 25ms/step - loss: 0.5391 - accuracy: 0.7244 - val_loss: 0.5805 - val_accuracy: 0.6954\n",
      "Epoch 41/50\n",
      "266/266 [==============================] - 7s 26ms/step - loss: 0.5388 - accuracy: 0.7213 - val_loss: 0.5785 - val_accuracy: 0.6973\n",
      "Epoch 42/50\n",
      "266/266 [==============================] - 7s 27ms/step - loss: 0.5382 - accuracy: 0.7266 - val_loss: 0.5804 - val_accuracy: 0.6926\n",
      "Epoch 43/50\n",
      "266/266 [==============================] - 6s 24ms/step - loss: 0.5373 - accuracy: 0.7247 - val_loss: 0.5820 - val_accuracy: 0.6935\n",
      "Epoch 44/50\n",
      "266/266 [==============================] - 6s 24ms/step - loss: 0.5368 - accuracy: 0.7262 - val_loss: 0.5804 - val_accuracy: 0.6935\n",
      "Epoch 45/50\n",
      "266/266 [==============================] - 6s 24ms/step - loss: 0.5365 - accuracy: 0.7277 - val_loss: 0.5797 - val_accuracy: 0.6916\n",
      "Epoch 46/50\n",
      "266/266 [==============================] - 7s 27ms/step - loss: 0.5364 - accuracy: 0.7252 - val_loss: 0.5813 - val_accuracy: 0.6921\n",
      "Epoch 47/50\n",
      "266/266 [==============================] - 7s 26ms/step - loss: 0.5351 - accuracy: 0.7261 - val_loss: 0.5833 - val_accuracy: 0.6949\n",
      "Epoch 48/50\n",
      "266/266 [==============================] - 7s 27ms/step - loss: 0.5354 - accuracy: 0.7270 - val_loss: 0.5834 - val_accuracy: 0.6940\n",
      "Epoch 49/50\n",
      "266/266 [==============================] - 7s 26ms/step - loss: 0.5344 - accuracy: 0.7295 - val_loss: 0.5808 - val_accuracy: 0.6977\n",
      "Epoch 50/50\n",
      "266/266 [==============================] - 6s 24ms/step - loss: 0.5342 - accuracy: 0.7281 - val_loss: 0.5848 - val_accuracy: 0.6973\n",
      "67/83 [=======================>......] - ETA: 0s"
     ]
    },
    {
     "name": "stderr",
     "output_type": "stream",
     "text": [
      "2023-04-06 20:28:15.630819: I tensorflow/core/grappler/optimizers/custom_graph_optimizer_registry.cc:114] Plugin optimizer for device_type GPU is enabled.\n"
     ]
    },
    {
     "name": "stdout",
     "output_type": "stream",
     "text": [
      "83/83 [==============================] - 0s 3ms/step\n",
      "Accuracy: 70.70%\n"
     ]
    }
   ],
   "source": [
    "data = pd.read_csv('balanced_credit.csv')\n",
    "\n",
    "# One-hot encoding\n",
    "data['EDUCATION'] = data['EDUCATION'].map(lambda x: 0 if x in [1, 2] else 1)\n",
    "data['MARRIAGE'] = data['MARRIAGE'].map(lambda x: 0 if x == 1 else 1)\n",
    "data['PAY_6'] = data['PAY_6'].map(lambda x: 0 if x in [-1, 1, 2] else 1)\n",
    "\n",
    "X = data.drop('default', axis=1).values\n",
    "y = data['default'].values\n",
    "\n",
    "# Convert binary labels to categorical labels with two classes\n",
    "y = np.array([[1, 0] if label == 0 else [0, 1] for label in y])\n",
    "\n",
    "X_train, X_test, y_train, y_test = train_test_split(X, y, test_size=0.2, random_state=42, stratify=y)\n",
    "\n",
    "scaler = StandardScaler()\n",
    "X_train = scaler.fit_transform(X_train)\n",
    "X_test = scaler.transform(X_test)\n",
    "\n",
    "# Build the neural network\n",
    "model = Sequential([\n",
    "    Dense(25, activation='relu', input_shape=(X_train.shape[1],)),\n",
    "    Dense(25, activation='relu'),\n",
    "    Dense(2, activation='softmax')\n",
    "])\n",
    "\n",
    "model.compile(optimizer=Adam(learning_rate=0.0005), loss='categorical_crossentropy', metrics=['accuracy'])\n",
    "model.fit(X_train, y_train, validation_split=0.2, epochs=50, batch_size=32, verbose=1)\n",
    "\n",
    "y_pred = model.predict(X_test).argmax(axis=1)\n",
    "y_test_labels = y_test.argmax(axis=1)\n",
    "accuracy = accuracy_score(y_test_labels, y_pred)\n",
    "\n",
    "print(\"Accuracy: {:.2f}%\".format(accuracy * 100))"
   ],
   "metadata": {
    "collapsed": false,
    "ExecuteTime": {
     "start_time": "2023-04-07T18:49:41.175187Z",
     "end_time": "2023-04-07T18:49:54.489338Z"
    }
   }
  }
 ],
 "metadata": {
  "kernelspec": {
   "display_name": "Python 3",
   "language": "python",
   "name": "python3"
  },
  "language_info": {
   "codemirror_mode": {
    "name": "ipython",
    "version": 2
   },
   "file_extension": ".py",
   "mimetype": "text/x-python",
   "name": "python",
   "nbconvert_exporter": "python",
   "pygments_lexer": "ipython2",
   "version": "2.7.6"
  }
 },
 "nbformat": 4,
 "nbformat_minor": 0
}
